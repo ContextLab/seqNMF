{
 "cells": [
  {
   "cell_type": "code",
   "execution_count": 2,
   "metadata": {},
   "outputs": [],
   "source": [
    "import numpy as np"
   ]
  },
  {
   "cell_type": "code",
   "execution_count": 4,
   "metadata": {},
   "outputs": [],
   "source": [
    "def reconstruct(W, H):\n",
    "    N = W.shape[0]\n",
    "    K = W.shape[1]\n",
    "    L = W.shape[2]\n",
    "    T = H.shape[1]\n",
    "    \n",
    "    H = np.hstack(np.zeros([K, L]), H, np.zeros([K, L]))\n",
    "    T += 2*L\n",
    "    X_hat = np.zeros([N, T])\n",
    "    \n",
    "    for t in np.arange(L):\n",
    "        X_hat += W[:, :, t] * np.roll(H, t-1, axis=1)\n",
    "    \n",
    "    return X_hat[:, L+1:-L]"
   ]
  },
  {
   "cell_type": "code",
   "execution_count": null,
   "metadata": {},
   "outputs": [],
   "source": [
    "def seq_nmf(X, K=10, L=20, lambda=.1, W_init=None, H_init=None,...\n",
    "            plot_it=True, maxiter=20, tol=-np.inf, shift=1, sort_factors=1, ...\n",
    "            lambda_L1W=0, lambda_L1H=0, lambda_OrthH=0, lambda_OrthW=0, M=None, ...\n",
    "            use_W_update=True):\n",
    "    N = X.shape[0]\n",
    "    T = X.shape[1]\n",
    "    if W_init is None:\n",
    "        W_init = np.max(X) * np.random.rand([N, K, L])\n",
    "    if H_init is None:\n",
    "        H_init = np.max(X) * np.random.rand([K, T]) / np.sqrt(T / 3)\n",
    "    if M is None:\n",
    "        M = np.ones([N, T])\n",
    "    \n",
    "    assert np.all(X >= 0), 'all data values must be positive!'\n",
    "    \n",
    "    W = W_init\n",
    "    H = H_init\n",
    "    \n",
    "    Xhat = reconstruct(W, H)\n",
    "    mask = M == 0\n",
    "    X(mask) = Xhat(mask)\n",
    "    \n",
    "    smooth_kernel = np.ones([1, (2*L) - 1])\n",
    "    eps = np.max(X) * 1e-6\n",
    "    last_time = 0\n",
    "    \n",
    "    cost = np.zeros([maxiter+1, 1])\n",
    "    cost[0] = np.sqrt(np.mean(np.pow(X - Xhat, 2)))\n",
    "    \n",
    "    ##STOPPED AT LINE 106"
   ]
  }
 ],
 "metadata": {
  "kernelspec": {
   "display_name": "Python 3",
   "language": "python",
   "name": "python3"
  },
  "language_info": {
   "codemirror_mode": {
    "name": "ipython",
    "version": 3
   },
   "file_extension": ".py",
   "mimetype": "text/x-python",
   "name": "python",
   "nbconvert_exporter": "python",
   "pygments_lexer": "ipython3",
   "version": "3.6.5"
  }
 },
 "nbformat": 4,
 "nbformat_minor": 2
}
